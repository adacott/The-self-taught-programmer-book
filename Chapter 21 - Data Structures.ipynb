{
 "cells": [
  {
   "cell_type": "code",
   "execution_count": null,
   "metadata": {},
   "outputs": [],
   "source": [
    "# In this section you will learn about two more data structures:\n",
    "# Stacks and Queues"
   ]
  },
  {
   "cell_type": "markdown",
   "metadata": {},
   "source": [
    "A stack is a data structure. Like a list, you can add and remove items from a stack, except unlike a list, you can only add and remove the last item. If you have the list [1, 2, 3], you can remove any of the items in it. If you have a stack that is the same, you can only remove the last item in it, 3. If you remove the 3, your stack looks like [1, 2]. Now you can remove the 2. Once you've removed the 2, you can remove the 1, and the stack is empty. Removing an item from a stack is called popping. If you put 1 back on the stack, it looks like [1]. If you put a two onto the stack, it looks like [1, 2]. Putting an item onto a stack is called pushing. This kind of data structure, where the last item put in is the first item taken out, is called a last-in-first-out data structure (LIFO)."
   ]
  },
  {
   "cell_type": "markdown",
   "metadata": {},
   "source": [
    "class Stack:\n",
    "    def __init__(self):\n",
    "        self.items = []\n",
    " \n",
    "    def is_empty(self):\n",
    "        return self.items == []\n",
    " \n",
    "    def push(self, item):\n",
    "        self.items.append(item)\n",
    " \n",
    "    def pop(self):\n",
    "        return self.items.pop()\n",
    " \n",
    "    def peek(self):\n",
    "        last = len(self.items)-1\n",
    "        return self.items[last]\n",
    " \n",
    "    def size(self):\n",
    "        return len(self.items)"
   ]
  },
  {
   "cell_type": "markdown",
   "metadata": {},
   "source": [
    "#### Reversing a String with a Stack\n",
    "\n",
    "A stack can reverse an iterable, because whatever you put on a stack comes off in reverse order. In this section, you will solve a common programming interview problem—reversing a string using a stack by first putting it in on a stack, then taking it off:"
   ]
  },
  {
   "cell_type": "code",
   "execution_count": 1,
   "metadata": {},
   "outputs": [
    {
     "name": "stdout",
     "output_type": "stream",
     "text": [
      "olleH\n"
     ]
    }
   ],
   "source": [
    "class Stack:\n",
    "    def __init__(self):\n",
    "        self.items = []\n",
    " \n",
    "    def is_empty(self):\n",
    "        return self.items == []\n",
    " \n",
    "    def push(self, item):\n",
    "        self.items.append(item)\n",
    " \n",
    "    def pop(self):\n",
    "        return self.items.pop()\n",
    " \n",
    "    def peek(self):\n",
    "        last = len(self.items)-1\n",
    "        return self.items[last]\n",
    " \n",
    "    def size(self):\n",
    "        return len(self.items)\n",
    " \n",
    "stack = Stack()\n",
    "for c in \"Hello\":\n",
    "    stack.push(c)\n",
    " \n",
    "reverse = \"\"\n",
    " \n",
    "for i in range(len(stack.items)):\n",
    "    reverse += stack.pop()\n",
    " \n",
    "print(reverse)\n",
    "\n"
   ]
  },
  {
   "cell_type": "code",
   "execution_count": 7,
   "metadata": {},
   "outputs": [
    {
     "data": {
      "text/plain": [
       "'olleH'"
      ]
     },
     "execution_count": 7,
     "metadata": {},
     "output_type": "execute_result"
    }
   ],
   "source": [
    "word = \"Hello\"\n",
    "iter = len(word)-1\n",
    "reverse = \"\"\n",
    "\n",
    "while iter >= 0:\n",
    "    reverse += word[iter]\n",
    "    iter -= 1\n",
    "\n",
    "reverse\n",
    "\n",
    "# the above is also a very simple way to do this without the stack functionality -- the stack function is probably a little more versatile for continued use, but this is simple for a one-time use."
   ]
  },
  {
   "cell_type": "markdown",
   "metadata": {},
   "source": [
    "#### Queues\n",
    "\n",
    "A queue is another data structure. A queue is also like a list; you can add and remove items from it. A queue is also like a stack because you can only add and remove items in a certain order. Unlike a stack, where the first item put in is the last out, a queue is a first-in-first-out data structure (FIFO): the first item added is the first item taken out.\n"
   ]
  },
  {
   "cell_type": "code",
   "execution_count": 8,
   "metadata": {},
   "outputs": [],
   "source": [
    "class Queue:\n",
    "   def __init__(self):\n",
    "       self.items = []\n",
    " \n",
    "   def is_empty(self):\n",
    "       return self.items == []\n",
    " \n",
    "   def enqueue(self, item):\n",
    "       self.items.insert(0, item)\n",
    " \n",
    "   def dequeue(self):\n",
    "       return self.items.pop()\n",
    " \n",
    "   def size(self):\n",
    "       return len(self.items)\n"
   ]
  },
  {
   "cell_type": "code",
   "execution_count": 9,
   "metadata": {},
   "outputs": [
    {
     "name": "stdout",
     "output_type": "stream",
     "text": [
      "person0\n",
      "person1\n",
      "person2\n",
      "person3\n",
      "person4\n",
      "person5\n",
      "['person0', 'person1', 'person2', 'person3', 'person4', 'person5']\n"
     ]
    }
   ],
   "source": [
    "# A Queue could simulate a bunch of people waiting in line to buy tickets for a movie:\n",
    "import time\n",
    "import random\n",
    " \n",
    "class Queue:\n",
    "    def __init__(self):\n",
    "        self.items = []\n",
    " \n",
    "    def is_empty(self):\n",
    "        return self.items == []\n",
    " \n",
    "    def enqueue(self, item):\n",
    "        self.items.insert(0, item)\n",
    " \n",
    "    def dequeue(self):\n",
    "        return self.items.pop()\n",
    " \n",
    "    def size(self):\n",
    "        return len(self.items)\n",
    " \n",
    "    def simulate_line(self,\n",
    "                      till_show,\n",
    "                      max_time):\n",
    "        pq = Queue()\n",
    "        tix_sold = []\n",
    " \n",
    "        for i in range(100):\n",
    "            pq.enqueue(\"person\"\n",
    "                       + str(i))\n",
    " \n",
    "        t_end = time.time()\\\n",
    "                + till_show\n",
    "        now = time.time()\n",
    "        while now < t_end \\\n",
    "        and not pq.is_empty():\n",
    "            now = time.time()\n",
    "            r = random.\\\n",
    "                randint(0,\n",
    "                        max_time)\n",
    "            time.sleep(r)\n",
    "            person = pq.dequeue()\n",
    "            print(person)\n",
    "            tix_sold.append(person)\n",
    " \n",
    "        return tix_sold\n",
    " \n",
    "queue = Queue()\n",
    "sold = queue.simulate_line(5, 1)\n",
    "print(sold)"
   ]
  },
  {
   "cell_type": "markdown",
   "metadata": {},
   "source": [
    "#### Challenges:"
   ]
  },
  {
   "cell_type": "markdown",
   "metadata": {},
   "source": [
    "1. Reverse the string \"yesterday\" using a stack.\n",
    "2. Use a stack to create a new list with the items in the following list reversed: [1, 2, 3, 4, 5].\n",
    "\n"
   ]
  },
  {
   "cell_type": "code",
   "execution_count": 10,
   "metadata": {},
   "outputs": [
    {
     "name": "stdout",
     "output_type": "stream",
     "text": [
      "yadretsey\n"
     ]
    }
   ],
   "source": [
    "class Stack:\n",
    "    def __init__(self):\n",
    "        self.items = []\n",
    " \n",
    "    def is_empty(self):\n",
    "        return self.items == []\n",
    " \n",
    "    def push(self, item):\n",
    "        self.items.append(item)\n",
    " \n",
    "    def pop(self):\n",
    "        return self.items.pop()\n",
    " \n",
    "    def peek(self):\n",
    "        last = len(self.items)-1\n",
    "        return self.items[last]\n",
    " \n",
    "    def size(self):\n",
    "        return len(self.items)\n",
    " \n",
    "stack = Stack()\n",
    "for c in \"yesterday\":\n",
    "    stack.push(c)\n",
    " \n",
    "reverse = \"\"\n",
    " \n",
    "for i in range(len(stack.items)):\n",
    "    reverse += stack.pop()\n",
    " \n",
    "print(reverse)"
   ]
  }
 ],
 "metadata": {
  "kernelspec": {
   "display_name": "Python 3",
   "language": "python",
   "name": "python3"
  },
  "language_info": {
   "codemirror_mode": {
    "name": "ipython",
    "version": 3
   },
   "file_extension": ".py",
   "mimetype": "text/x-python",
   "name": "python",
   "nbconvert_exporter": "python",
   "pygments_lexer": "ipython3",
   "version": "3.11.5"
  },
  "orig_nbformat": 4
 },
 "nbformat": 4,
 "nbformat_minor": 2
}
