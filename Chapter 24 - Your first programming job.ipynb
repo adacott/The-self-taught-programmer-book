{
 "cells": [
  {
   "cell_type": "markdown",
   "metadata": {},
   "source": [
    "Getting Initial Experience Before you are hired for your first programming job, you will need experience. But how do you get programming experience if no one will hire you without it? There are a few ways to solve this problem. You can get involved in open source by starting an open source project or contributing to the thousands of open source projects on GitHub. Another option is to do freelance work. Create a profile on a site similar to Upwork, and start applying for small programming jobs. I recommend finding someone you know who needs some programming work done, have them sign up for an Upwork account, then officially hire you there so they can leave you a great review for your work. Until you have at least one good review on a site like Upwork, it is hard to get hired for jobs. Once people see that you've successfully completed at least one job, getting hired becomes easier, because you've established some credibility.\n"
   ]
  },
  {
   "cell_type": "markdown",
   "metadata": {},
   "source": [
    "Hacking the Interview The majority of programming interviews focus on two subjects—data structures and algorithms. To pass your programming interview, you know exactly what you must do—get very good at these two specific areas of computer science. Fortunately, this will help you to become a better programmer. You can narrow down the questions to focus on even further by thinking about the interview from the interviewer's perspective. Think about the situation your interviewer is in; they say software is never complete, and it's true. Your interviewer most likely has a lot of work and doesn't want to dedicate a lot of time interviewing candidates. Are they going to spend their valuable time coming up with original programming questions? Probably not. They are going to Google \"programming interview questions,\" and ask one of the first ones they find. This situation leads to the same interview questions coming up over and over again—and there are some great resources out there to practice them! I highly recommend using LeetCode—I've found every question anyone has ever asked me in a programming interview there.\n"
   ]
  },
  {
   "cell_type": "markdown",
   "metadata": {},
   "source": []
  }
 ],
 "metadata": {
  "kernelspec": {
   "display_name": "Python 3",
   "language": "python",
   "name": "python3"
  },
  "language_info": {
   "name": "python",
   "version": "3.11.5"
  },
  "orig_nbformat": 4
 },
 "nbformat": 4,
 "nbformat_minor": 2
}
