{
 "cells": [
  {
   "cell_type": "code",
   "execution_count": 2,
   "metadata": {},
   "outputs": [],
   "source": [
    "import urllib.request\n",
    "from bs4 import BeautifulSoup\n",
    "\n",
    "class Scraper:\n",
    "    def __init__(self,\n",
    "                 site):\n",
    "        self.site = site\n",
    " \n",
    "    def scrape(self):\n",
    "        r = urllib.request\\\n",
    "        .urlopen(self.site)\n",
    "        xml = r.read()\n",
    "\n"
   ]
  },
  {
   "cell_type": "markdown",
   "metadata": {},
   "source": [
    "The urlopen() function makes a request to a website and returns a Response object that has its XML stored in it, along with additional data. The function response.read() returns the XML from the Response object. All of the XML from the website is in the variable xml. Now you are ready to parse the XML. Add a new line of code in the scrape function that creates a BeautifulSoup object, and pass in the xml variable and the string \"html.parser\"(because Google New’s XML can be parsed as HTML) as a parameter:\n",
    "\n"
   ]
  },
  {
   "cell_type": "code",
   "execution_count": 4,
   "metadata": {},
   "outputs": [],
   "source": [
    "class Scraper:\n",
    "    def __init__(self,\n",
    "                 site):\n",
    "        self.site = site\n",
    " \n",
    "    def scrape(self):\n",
    "        r = urllib.request\\\n",
    "            .urlopen(self.site)\n",
    "        xml = r.read()\n",
    "        parser = \"html.parser\"\n",
    "        sp = BeautifulSoup(xml, parser)\n",
    "\n"
   ]
  },
  {
   "cell_type": "markdown",
   "metadata": {},
   "source": [
    "The BeautifulSoup object does all the hard work and parses the XML. Now you can add code to the scrape function that calls the method find_all on the BeautifulSoup object. Pass in \"item\" as a parameter (which tells the function to look for <item></item> tags) and the method will return all the news items in the HTML or XML you downloaded:"
   ]
  },
  {
   "cell_type": "code",
   "execution_count": 5,
   "metadata": {},
   "outputs": [],
   "source": [
    "class Scraper:\n",
    "    def __init__(self,\n",
    "                 site):\n",
    "        self.site = site\n",
    " \n",
    "    def scrape(self):\n",
    "        r = urllib.request\\\n",
    "            .urlopen(self.site)\n",
    "        xml = r.read()\n",
    "        parser = \"html.parser\"\n",
    "        sp = BeautifulSoup(xml,\n",
    "                        parser)\n",
    "        for item in sp.find_all(\"item\"):\n",
    "            title = item.find(\"title\")\n",
    "            if title is None:\n",
    "                continue\n",
    "            else:\n",
    "                print(\"\\n\" + title.text)\n"
   ]
  },
  {
   "cell_type": "markdown",
   "metadata": {},
   "source": [
    "The find_all method returns an iterable containing the item objects it found. Each time around the for-loop, the variable item is assigned the value of a new Tag object. Each item consists of nested tags containing various pieces of information, but you just want the value of the title tag, which contains the news item title as text. You can get it by calling the method find and passing in \"title\" as a parameter. Finally, you check that the variable title contains data; that it is not None; and if it does, you print it. Here is the complete web scraper:"
   ]
  },
  {
   "cell_type": "code",
   "execution_count": 11,
   "metadata": {},
   "outputs": [
    {
     "name": "stdout",
     "output_type": "stream",
     "text": [
      "\n",
      "US Capitol attack: Proud Boys leader gets 18 years in prison, matching longest - Reuters\n",
      "\n",
      "'Are you going to shoot me?’ Woman asks before police fatally shot her - NBC4 Columbus\n",
      "\n",
      "Mitch McConnell May Be Experiencing Small Seizures, Doctors Suggest - The New York Times\n",
      "\n",
      "Drone strike sets fire to Russian factory making missile microchips, Ukraine says - New York Post \n",
      "\n",
      "Students react to UNC Chapel Hill campus shooting - WJBF\n",
      "\n",
      "Ukraine war: US sees 'notable progress' by Ukraine army in south - BBC\n",
      "\n",
      "Ruby Franke: '8 Passengers' parenting mum arrested on child abuse suspicion - BBC\n",
      "\n",
      "‘What night really looks like’: lights out as Floridians clean up after Idalia - The Guardian US\n",
      "\n",
      "The former Chester County Prison warden retired the day before a convicted murderer escaped, officials said - The Philadelphia Inquirer\n",
      "\n",
      "Trump's election interference trial in Georgia will be televised - 9NEWS\n",
      "\n",
      "Paris bids rental e-scooters 'adieu' - DW (English)\n",
      "\n",
      "Mohamed Al Fayed: Former Harrods owner dies at 94 - BBC\n",
      "\n",
      "Germany charges 98-year-old former Nazi camp guard with being accessory to murder - CNN\n",
      "\n",
      "Gabon coup brings abrupt end to Bongos' improbable 56-year dynasty - Financial Times\n",
      "\n",
      "Walgreens CEO Rosalind Brewer steps down - Chicago Sun-Times\n",
      "\n",
      "US unemployment rate spikes to 3.8%; labor market still has momentum - Reuters\n",
      "\n",
      "How to watch ESPN amid Spectrum blackout - Democrat & Chronicle\n",
      "\n",
      "The 10-year Treasury bond is a 'screaming buy' because the Fed has regained credibility on fighting inflation - Yahoo Finance\n",
      "\n",
      "European pricing for Google Pixel 8 and Pixel 8 Pro surfaces online before October launch - Notebookcheck.net\n",
      "\n",
      "Lenovo Legion Go Hands On: Windows Handheld Gaming Meets Switch Style - PCMag\n",
      "\n",
      "September Is A Stellar Month For Some Video Gaming - Kotaku\n",
      "\n",
      "The MacRumors Show: iPhone 15 'Wonderlust' Event Announced - MacRumors\n",
      "\n",
      "Kevin Costner Breaks Silence On ‘Yellowstone’ Feud, Threatens Lawsuit - Hollywood Reporter\n",
      "\n",
      "Yorgos Lanthimos’ ‘Poor Things’ Starring Emma Stone Gets Huge 10-Minute-Plus Ovation At Venice Film Festival Premiere - Deadline\n",
      "\n",
      "‘The Bikeriders’ Review: Jodie Comer and Tom Hardy Stir the Surface of Jeff Nichols’ Gorgeous, Violent Love Letter to Outsiders - Hollywood Reporter\n",
      "\n",
      "Tom Holland Wishes Girlfriend Zendaya Happy Birthday with Sweet Posts: 'My Birthday Girl' - Yahoo Entertainment\n",
      "\n",
      "2023 Fantasy Football: Favorite late-round dart throws after pick 150 - Yahoo Sports\n",
      "\n",
      "Stanford, Cal, SMU catch last train into the Power Four, but it's hardly the end of conference realignment - CBS Sports\n",
      "\n",
      "Coco Gauff Wobbles, Then Steals the Show at the U.S. Open - The New York Times\n",
      "\n",
      "A more mature TCU quarterback Chandler Morris ready for his moment against Colorado - Fort Worth Star-Telegram\n",
      "\n",
      "You can watch India's Aditya-L1 solar probe launch live on Sept. 2. Here's what it will do. - Space.com\n",
      "\n",
      "Impact Crater From Russia's Luna 25 Crash Spied by NASA's Lunar Orbiter - SciTechDaily\n",
      "\n",
      "7 photos of last night's dazzling blue supermoon in the Iowa sky - KCCI Des Moines\n",
      "\n",
      "SpaceX scrubs launch of missile-detecting satellites for second day - KSBY News\n",
      "\n",
      "Eastern equine encephalitis virus detected in mosquitoes collected in Dudley and Southbridge, Massachusetts - WCVB Boston\n",
      "\n",
      "It seems like everyone has Covid-19. Here’s why this wave is probably worse than official data suggests - CNN\n",
      "\n",
      "New COVID variant BA.2.86 is now in 5 states. Here's what to know - ABC News\n",
      "\n",
      "Over-the-counter Narcan: Availability, cost, and how to administer - Vox.com\n"
     ]
    }
   ],
   "source": [
    "import collections\n",
    "collections.Callable = collections.abc.Callable\n",
    "\n",
    "from bs4 import BeautifulSoup\n",
    "\n",
    "class Scraper:\n",
    "    def __init__(self, site):\n",
    "        self.site = site\n",
    " \n",
    "    def scrape(self):\n",
    "        r = urllib.request\\\n",
    "            .urlopen(self.site)\n",
    "        xml = r.read()\n",
    "        parser = \"html.parser\"\n",
    "        sp = BeautifulSoup(xml,\n",
    "                           parser)\n",
    "        for item in sp.find_all(\"item\"):\n",
    "            title = item.find(\"title\")\n",
    "            if title is None:\n",
    "                continue\n",
    "            else:\n",
    "                print(\"\\n\" + title.text)\n",
    " \n",
    "news = \"https://news.google.com/news/rss/headlines\"\n",
    "Scraper(news).scrape()\n"
   ]
  },
  {
   "cell_type": "markdown",
   "metadata": {},
   "source": [
    "#### Challenge:"
   ]
  },
  {
   "cell_type": "markdown",
   "metadata": {},
   "source": [
    "1. Modify your scraper to save the headlines in a file."
   ]
  }
 ],
 "metadata": {
  "kernelspec": {
   "display_name": "Python 3",
   "language": "python",
   "name": "python3"
  },
  "language_info": {
   "codemirror_mode": {
    "name": "ipython",
    "version": 3
   },
   "file_extension": ".py",
   "mimetype": "text/x-python",
   "name": "python",
   "nbconvert_exporter": "python",
   "pygments_lexer": "ipython3",
   "version": "3.11.5"
  },
  "orig_nbformat": 4
 },
 "nbformat": 4,
 "nbformat_minor": 2
}
