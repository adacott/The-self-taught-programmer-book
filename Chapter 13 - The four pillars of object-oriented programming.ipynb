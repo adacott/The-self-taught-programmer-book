{
 "cells": [
  {
   "cell_type": "markdown",
   "metadata": {},
   "source": [
    "#### Encapsulation"
   ]
  },
  {
   "cell_type": "markdown",
   "metadata": {},
   "source": [
    "Encapsulation refers to two concepts. The first is that in object-oriented programming, objects group variables (state) and methods (for altering state or doing calculations that use state) in a single unit—the object:\n",
    "\n",
    "The second concept, encapsulation, refers to hiding a class's internal data to prevent the client, the code outside the class that uses the object, from directly accessing it:\n",
    "\n",
    "The class Data has an instance variable called nums that contains a list of integers. Once you create a Data object, there are two ways you can change the items in nums: by using the change_data method, or by directly accessing the nums instance variable using the Data object:\n",
    "\n"
   ]
  },
  {
   "cell_type": "code",
   "execution_count": 1,
   "metadata": {},
   "outputs": [
    {
     "name": "stdout",
     "output_type": "stream",
     "text": [
      "[100, 2, 3, 4, 5]\n",
      "[100, 2, 3, 4, 5]\n"
     ]
    }
   ],
   "source": [
    "class Data:\n",
    "    def __init__(self):\n",
    "        self.nums = [1, 2, 3, 4, 5]\n",
    " \n",
    "    def change_data(self, index, n):\n",
    "        self.nums[index] = n\n",
    " \n",
    "data_one = Data()\n",
    "data_one.nums[0] = 100\n",
    "print(data_one.nums)\n",
    " \n",
    "data_two = Data()\n",
    "data_two.change_data(0, 100)\n",
    "print(data_two.nums)"
   ]
  },
  {
   "cell_type": "markdown",
   "metadata": {},
   "source": [
    "Private variables are a way to allow a method of class to access variables or structures that you don't want to be externally accessed by the client.\n",
    "They are useful for internal functions that the class performs on itself, or other private variables. Python doesn't actually have private variables, they do this through a naming convention instead:\n",
    "\n",
    "All of Python's variables are public. Python solves the problem private variables address another way—by using naming conventions. In Python, if you have a variable or method the caller should not access, you precede its name with an underscore. Python programmers know if the name of a method or variable starts with an underscore, they shouldn't use it (although they are still able to at their own risk):"
   ]
  },
  {
   "cell_type": "code",
   "execution_count": 2,
   "metadata": {},
   "outputs": [],
   "source": [
    "class PublicPrivateExample:\n",
    "    def __init__(self):\n",
    "        self.public = \"safe\"\n",
    "        self._unsafe = \"unsafe\"\n",
    " \n",
    "    def public_method(self):\n",
    "        # clients can use this\n",
    "        pass\n",
    " \n",
    "    def _unsafe_method(self):\n",
    "        # clients shouldn't use this\n",
    "        pass"
   ]
  },
  {
   "cell_type": "markdown",
   "metadata": {},
   "source": [
    "#### Polymorphism"
   ]
  },
  {
   "cell_type": "markdown",
   "metadata": {},
   "source": [
    "Polymorphism is \"the ability (in programming) to present the same interface for differing underlying forms (data types).\"8 An interface is a function or a method. Here is an example of presenting the same interface for different data types:\n",
    "\n"
   ]
  },
  {
   "cell_type": "code",
   "execution_count": 5,
   "metadata": {},
   "outputs": [
    {
     "name": "stdout",
     "output_type": "stream",
     "text": [
      "Hello, World!\n",
      "200\n",
      "200.1\n"
     ]
    }
   ],
   "source": [
    "print(\"Hello, World!\")\n",
    "print(200)\n",
    "print(200.1)\n",
    "\n",
    "# Here, the print function is the interface and is represented in 3 separate ways: as a string, an integer, and a float value\n",
    "# You didn't need to do print_int or print_str to print them all -- the function naturally worked for all the different data types"
   ]
  },
  {
   "cell_type": "markdown",
   "metadata": {},
   "source": [
    "Let's say you want to write a program that creates three objects that draw themselves: triangles, squares, and circles. You can achieve this goal by defining three different classes: Triangle, Square, and Circle, and defining a method called draw for each of them. Triangle.draw() will draw a triangle. Square.draw() will draw a square. And Circle.draw() will draw a circle. With this design, each of the objects has a draw interface that knows how to draw itself. You presented the same interface for three different data types.\n"
   ]
  },
  {
   "cell_type": "code",
   "execution_count": 6,
   "metadata": {},
   "outputs": [],
   "source": [
    "# The following are examples of what it would be like to draw shapes with and without polymorphism to show how important this principle is in programming.\n",
    "# Drawing shapes\n",
    "# w/o polymorphism\n",
    "shapes = [tr1, sq1, cr1]\n",
    "for a_shape in shapes:\n",
    "    if type(a_shape) == \"Triangle\":\n",
    "        a_shape.draw_triangle()\n",
    "    if type(a_shape) == \"Square\":\n",
    "        a_shape.draw_square()\n",
    "    if type(a_shape) == \"Circle\":\n",
    "         a_shape.draw_circle()\n",
    " \n",
    "# Drawing shapes\n",
    "# with polymorphism\n",
    "shapes = [tr1,\n",
    "          sw1,\n",
    "          cr1]\n",
    "for a_shape in shapes:\n",
    "    a_shape.draw()\n",
    "\n"
   ]
  },
  {
   "cell_type": "markdown",
   "metadata": {},
   "source": [
    "#### Abstraction"
   ]
  },
  {
   "cell_type": "markdown",
   "metadata": {},
   "source": [
    "Abstraction is the process of \"taking away or removing characteristics from something in order to reduce it to a set of essential characteristics.\"7 You use abstraction in object-oriented programming when you model objects using classes and omit unnecessary details. Say you are modeling a person. A person is complex: they have a hair color, eye color, height, weight, ethnicity, gender, and more. If you create a class to represent a person, some of these details may not be relevant to the problem you are trying to solve. An example of abstraction is creating a Person class, but omitting some attributes a person has, like an eye color and height. The Person objects your class creates are abstractions of people. It is a representation of a person stripped down to only the essential characteristics necessary for the problem you are solving.\n"
   ]
  },
  {
   "cell_type": "markdown",
   "metadata": {},
   "source": [
    "#### Inheritance"
   ]
  },
  {
   "cell_type": "markdown",
   "metadata": {},
   "source": [
    "Inheritance in programming is similar to genetic inheritance. In genetic inheritance, you inherit attributes like eye color from your parents. Similarly, when you create a class, it can inherit methods and variables from another class. The class that is inherited from is the parent class, and the class that inherits is the child class. In this section, you will model shapes using inheritance. Here is a class that models a shape:\n"
   ]
  },
  {
   "cell_type": "code",
   "execution_count": 7,
   "metadata": {},
   "outputs": [
    {
     "name": "stdout",
     "output_type": "stream",
     "text": [
      "20 by 25\n",
      "              \n"
     ]
    }
   ],
   "source": [
    "class Shape():\n",
    "    def __init__(self, w, l):\n",
    "        self.width = w\n",
    "        self.len = l\n",
    " \n",
    "    def print_size(self):\n",
    "        print(\"\"\"{} by {}\n",
    "              \"\"\".format(self.width,\n",
    "                         self.len))\n",
    " \n",
    "my_shape = Shape(20, 25)\n",
    "my_shape.print_size()"
   ]
  },
  {
   "cell_type": "markdown",
   "metadata": {},
   "source": [
    "You can define a child class that inherits from a parent class by passing the name of the parent class as a parameter to the child class when you create it. The following example creates a Square class that inherits from the Shape class:\n"
   ]
  },
  {
   "cell_type": "code",
   "execution_count": 8,
   "metadata": {},
   "outputs": [
    {
     "name": "stdout",
     "output_type": "stream",
     "text": [
      "20 by 20\n",
      "              \n"
     ]
    }
   ],
   "source": [
    "class Shape():\n",
    "    def __init__(self, w, l):\n",
    "        self.width = w\n",
    "        self.len = l\n",
    " \n",
    "    def print_size(self):\n",
    "        print(\"\"\"{} by {}\n",
    "              \"\"\".format(self.width,\n",
    "                         self.len))\n",
    " \n",
    "class Square(Shape):\n",
    "    pass\n",
    " \n",
    "a_square = Square(20,20)\n",
    "a_square.print_size()\n"
   ]
  },
  {
   "cell_type": "markdown",
   "metadata": {},
   "source": [
    "Because you passed the Shape class to the Square class as a parameter; the Square class inherits the Shape class's variables and methods. The only suite you defined in the Square class was the keyword pass, which tells Python not to do anything. Because of inheritance, you can create a Square object, pass it a width and length, and call the method print_size on it without writing any code (aside from pass) in the Square class. This reduction in code is important because avoiding repeating code makes your program smaller and more manageable. A child class is like any other class; you can define methods and variables in it without affecting the parent class:"
   ]
  },
  {
   "cell_type": "code",
   "execution_count": 9,
   "metadata": {},
   "outputs": [
    {
     "name": "stdout",
     "output_type": "stream",
     "text": [
      "400\n",
      "20 by 20\n",
      "              \n"
     ]
    }
   ],
   "source": [
    "class Shape():\n",
    "    def __init__(self, w, l):\n",
    "        self.width = w\n",
    "        self.len = l\n",
    " \n",
    "    def print_size(self):\n",
    "        print(\"\"\"{} by {}\n",
    "              \"\"\".format(self.width,\n",
    "                         self.len))\n",
    " \n",
    "class Square(Shape):\n",
    "    def area(self):\n",
    "        return self.width * self.len\n",
    " \n",
    "a_square = Square(20, 20)\n",
    "print(a_square.area())\n",
    "a_square.print_size()\n"
   ]
  },
  {
   "cell_type": "markdown",
   "metadata": {},
   "source": [
    "When a child class inherits a method from a parent class, you can override it by defining a new method with the same name as the inherited method. A child class's ability to change the implementation of a method inherited from its parent class is called method overriding.\n"
   ]
  },
  {
   "cell_type": "code",
   "execution_count": 10,
   "metadata": {},
   "outputs": [
    {
     "name": "stdout",
     "output_type": "stream",
     "text": [
      "I am 20 by 20\n",
      "              \n"
     ]
    }
   ],
   "source": [
    "class Shape():\n",
    "    def __init__(self, w, l):\n",
    "        self.width = w\n",
    "        self.len = l\n",
    " \n",
    "    def print_size(self):\n",
    "        print(\"\"\"{} by {}\n",
    "              \"\"\".format(self.width,\n",
    "                         self.len))\n",
    " \n",
    "class Square(Shape):\n",
    "    def area(self):\n",
    "        return self.width * self.len\n",
    " \n",
    "    def print_size(self):\n",
    "        print(\"\"\"I am {} by {}\n",
    "              \"\"\".format(self.width,\n",
    "                         self.len))\n",
    " \n",
    "a_square = Square(20, 20)\n",
    "a_square.print_size()\n"
   ]
  },
  {
   "cell_type": "markdown",
   "metadata": {},
   "source": [
    "#### Composition"
   ]
  },
  {
   "cell_type": "markdown",
   "metadata": {},
   "source": [
    "Now that you've learned about the four pillars of object-oriented programming, I am going to cover one more important concept: composition. Composition models the \"has a\" relationship by storing an object as a variable in another object. For example, you can use composition to represent the relationship between a dog and its owner (a dog has an owner). To model this, first you define classes to represent dogs and people:\n"
   ]
  },
  {
   "cell_type": "code",
   "execution_count": 11,
   "metadata": {},
   "outputs": [],
   "source": [
    "class Dog():\n",
    "    def __init__(self,\n",
    "                 name,\n",
    "                 breed,\n",
    "                 owner):\n",
    "        self.name = name\n",
    "        self.breed = breed\n",
    "        self.owner = owner\n",
    " \n",
    "class Person():\n",
    "    def __init__(self, name):\n",
    "        self.name = name\n"
   ]
  },
  {
   "cell_type": "code",
   "execution_count": 12,
   "metadata": {},
   "outputs": [
    {
     "name": "stdout",
     "output_type": "stream",
     "text": [
      "Mick Jagger\n"
     ]
    }
   ],
   "source": [
    "# Then, when you create a Dog object, you pass in a Person object as the owner parameter:\n",
    "mick = Person(\"Mick Jagger\")\n",
    "stan = Dog(\"Stanley\",\n",
    "            \"Bulldog\",\n",
    "            mick)\n",
    "print(stan.owner.name)\n"
   ]
  },
  {
   "cell_type": "markdown",
   "metadata": {},
   "source": [
    "#### Challenges:"
   ]
  },
  {
   "cell_type": "markdown",
   "metadata": {},
   "source": [
    "1. Create Rectangle and Square classes with a method called calculate_perimeter that calculates the perimeter of the shapes they represent. Create Rectangle and Square objects and call the method on both of them.\n",
    "2. Define a method in your Square class called change_size that allows you to pass in a number that increases or decreases (if the number is negative) each side of a Square object by that number.\n",
    "3. Create a class called Shape. Define a method in it called what_am_i that prints \"I am a shape\" when called. Change your Square and Rectangle classes from the previous challenges to inherit from Shape, create Square and Rectangle objects, and call the new method on both of them.\n",
    "4. Create a class called Horse and a class called Rider. Use composition to model a horse that has a rider.\n",
    "\n"
   ]
  },
  {
   "cell_type": "code",
   "execution_count": null,
   "metadata": {},
   "outputs": [],
   "source": []
  }
 ],
 "metadata": {
  "kernelspec": {
   "display_name": "Python 3",
   "language": "python",
   "name": "python3"
  },
  "language_info": {
   "codemirror_mode": {
    "name": "ipython",
    "version": 3
   },
   "file_extension": ".py",
   "mimetype": "text/x-python",
   "name": "python",
   "nbconvert_exporter": "python",
   "pygments_lexer": "ipython3",
   "version": "3.11.5"
  },
  "orig_nbformat": 4
 },
 "nbformat": 4,
 "nbformat_minor": 2
}
