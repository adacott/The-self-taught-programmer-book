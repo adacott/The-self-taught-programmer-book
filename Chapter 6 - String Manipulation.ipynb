{
 "cells": [
  {
   "cell_type": "code",
   "execution_count": 1,
   "metadata": {},
   "outputs": [
    {
     "data": {
      "text/plain": [
       "'\\nThis string needs multiple lines\\nto work\\nproperly\\n'"
      ]
     },
     "execution_count": 1,
     "metadata": {},
     "output_type": "execute_result"
    }
   ],
   "source": [
    "# A string that spans more than one line needs triple quotes:\n",
    "\"\"\"\n",
    "This string needs multiple lines\n",
    "to work\n",
    "properly\n",
    "\"\"\""
   ]
  },
  {
   "cell_type": "code",
   "execution_count": 3,
   "metadata": {},
   "outputs": [
    {
     "data": {
      "text/plain": [
       "'t'"
      ]
     },
     "execution_count": 3,
     "metadata": {},
     "output_type": "execute_result"
    }
   ],
   "source": [
    "# Strings are iterable and indexable just like lists and tuples are:\n",
    "mystr = \"table\"\n",
    "mystr[0]"
   ]
  },
  {
   "cell_type": "code",
   "execution_count": 6,
   "metadata": {},
   "outputs": [
    {
     "data": {
      "text/plain": [
       "'catinhat'"
      ]
     },
     "execution_count": 6,
     "metadata": {},
     "output_type": "execute_result"
    }
   ],
   "source": [
    "# Strings, like tuples, are immutable. If you want to change the values in a string, a new one needs to be created\n",
    "\n",
    "# Strings can be concatenated together:\n",
    "\"cat\" + \"in\" + \"hat\""
   ]
  },
  {
   "cell_type": "code",
   "execution_count": 12,
   "metadata": {},
   "outputs": [
    {
     "name": "stdout",
     "output_type": "stream",
     "text": [
      "TABLE\n",
      "table\n",
      "Table\n"
     ]
    }
   ],
   "source": [
    "# The casing of a string can be changed easily:\n",
    "mystr\n",
    "\n",
    "print(mystr.upper())\n",
    "print(mystr.lower())\n",
    "print(mystr.capitalize())"
   ]
  },
  {
   "cell_type": "code",
   "execution_count": null,
   "metadata": {},
   "outputs": [],
   "source": [
    "# String formatting:\n",
    "#The format method is useful if you are creating a string from user input:\n",
    "n1 = input(\"Enter a noun:\")\n",
    "v = input(\"Enter a verb:\")\n",
    "adj = input(\"Enter an adj:\")\n",
    "n2 = input(\"Enter a noun:\")\n",
    " \n",
    "r = \"\"\"The {} {} the {} {}\n",
    "    \"\"\".format(n1,\n",
    "               v,\n",
    "               adj,\n",
    "               n2)\n",
    "print(r)\n"
   ]
  },
  {
   "cell_type": "code",
   "execution_count": 13,
   "metadata": {},
   "outputs": [
    {
     "data": {
      "text/plain": [
       "['This', 'is', 'my', 'string']"
      ]
     },
     "execution_count": 13,
     "metadata": {},
     "output_type": "execute_result"
    }
   ],
   "source": [
    "# Strings can be split into multiple with split()\n",
    "mystr = \"This is my string\"\n",
    "\n",
    "mystr.split(\" \")"
   ]
  },
  {
   "cell_type": "code",
   "execution_count": 17,
   "metadata": {},
   "outputs": [
    {
     "name": "stdout",
     "output_type": "stream",
     "text": [
      "Thisismystring\n",
      "This is my string\n"
     ]
    }
   ],
   "source": [
    "# Likewise, you can use the .join() method on a list and join it into a string:\n",
    "mylist = [\"This\", \"is\", \"my\", \"string\"]\n",
    "one = \"\".join(mylist)\n",
    "print(one)\n",
    "\n",
    "two = \" \".join(mylist)\n",
    "print(two)"
   ]
  },
  {
   "cell_type": "code",
   "execution_count": 18,
   "metadata": {},
   "outputs": [
    {
     "data": {
      "text/plain": [
       "'So'"
      ]
     },
     "execution_count": 18,
     "metadata": {},
     "output_type": "execute_result"
    }
   ],
   "source": [
    "# Strip can be used to remove wasted whitespace at the beginning and end of a string:\n",
    "mystr = \"         So         \"\n",
    "mystr = mystr.strip()\n",
    "mystr"
   ]
  },
  {
   "cell_type": "code",
   "execution_count": 19,
   "metadata": {},
   "outputs": [
    {
     "data": {
      "text/plain": [
       "'All @nim@ls @re pretty cool'"
      ]
     },
     "execution_count": 19,
     "metadata": {},
     "output_type": "execute_result"
    }
   ],
   "source": [
    "# Replcae does as it sounds, and replaces an element of a string with another:\n",
    "mystr = \"All animals are pretty cool\"\n",
    "mystr = mystr.replace(\"a\", \"@\")\n",
    "mystr\n",
    "# Note that this is case-sensitive -- if you wanted to change all of the letters, case or not, you would need to manipulate them to all be single-case first"
   ]
  },
  {
   "cell_type": "code",
   "execution_count": 1,
   "metadata": {},
   "outputs": [
    {
     "data": {
      "text/plain": [
       "3"
      ]
     },
     "execution_count": 1,
     "metadata": {},
     "output_type": "execute_result"
    }
   ],
   "source": [
    "# An index can be found by:\n",
    "\"animal\".index(\"m\")"
   ]
  },
  {
   "cell_type": "code",
   "execution_count": 2,
   "metadata": {},
   "outputs": [
    {
     "data": {
      "text/plain": [
       "'Animals '"
      ]
     },
     "execution_count": 2,
     "metadata": {},
     "output_type": "execute_result"
    }
   ],
   "source": [
    "# The in keyword will check is a string is in another string then return true or false\n",
    "\n",
    "# Not in keywords will check if the string is not in another string and return true or false\n",
    "\n",
    "# \"/\" is the escape sequence and \"/n\" inside of a string represents the newline command\n",
    "\n",
    "# Slicing is where you can take a range to \"slice\" from in a string:\n",
    "mystr = \"Animals compete all the time\"\n",
    "mystr[0:8]"
   ]
  },
  {
   "cell_type": "code",
   "execution_count": null,
   "metadata": {},
   "outputs": [],
   "source": []
  }
 ],
 "metadata": {
  "kernelspec": {
   "display_name": "Python 3",
   "language": "python",
   "name": "python3"
  },
  "language_info": {
   "codemirror_mode": {
    "name": "ipython",
    "version": 3
   },
   "file_extension": ".py",
   "mimetype": "text/x-python",
   "name": "python",
   "nbconvert_exporter": "python",
   "pygments_lexer": "ipython3",
   "version": "3.11.5"
  },
  "orig_nbformat": 4
 },
 "nbformat": 4,
 "nbformat_minor": 2
}
