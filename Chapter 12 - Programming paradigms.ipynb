{
 "cells": [
  {
   "cell_type": "markdown",
   "metadata": {},
   "source": [
    "In **object-oriented programming**, classes define a set of objects that can interact with each other. \n",
    "Classes are a mechanism for the programmer to classify and group together similar objects.\n",
    " \n",
    "\n",
    "Every object is an instance of a class. If you define a class called Orange, and create two Orange objects, each one is an instance of the class Orange; they have the same data type—Orange. You can use the terms object and instance interchangeably. When you define a class, all of the instances of that class will be similar: They all have the attributes defined in the class they are an instance of, such as color or weight for a class representing an orange—but each instance can have different values for these attributes. In Python, a class is a compound statement with a header and suites. You define a class with the syntax class [name]: [suites] where [name] is the name of the class and [suites] are the class' suites you define. By convention, classes in Python always start with a capital letter, and you write them in camelCase—which means if a class name has more than one word, the first letters of all the words should be capitalized LikeThis, instead of separated by an underscore (the convention for function names). A suite in a class can be a simple statement or a compound statement called a method. Methods are like functions, but you define them inside of a class, and you can only call them on the object the class creates (like you did in Part I when you called methods like \"hello\".upper() on strings). Method names, like function names, should be all lowercase with words separated by underscores.\n",
    "\n"
   ]
  },
  {
   "cell_type": "markdown",
   "metadata": {},
   "source": [
    "You define methods with the same syntax as functions, with two differences: you must define a method as a suite in a class, and it has to accept at least one parameter (except in special cases). By convention, you always name the first parameter of a method self. You have to define at least one parameter when you create a method, because when you call a method on an object, Python automatically passes the object that called the method to the method as a parameter:\n",
    "\n"
   ]
  },
  {
   "cell_type": "code",
   "execution_count": 1,
   "metadata": {},
   "outputs": [],
   "source": [
    "class Orange:\n",
    "    def __init__(self):\n",
    "        print(\"Created!\")"
   ]
  },
  {
   "cell_type": "markdown",
   "metadata": {},
   "source": [
    "You can use self to define an instance variable: a variable that belongs to an object. If you create multiple objects, they can all have different instance variable values. You can define instance variables with the syntax self.[variable_name] = [variable_value]. You normally define instance variables inside of a special method called __init__ (which stands for initialize) that Python calls when you create an object:\n",
    "\n"
   ]
  },
  {
   "cell_type": "code",
   "execution_count": 2,
   "metadata": {},
   "outputs": [],
   "source": [
    "class Orange:\n",
    "    def __init__(self, w, c):\n",
    "        self.weight = w\n",
    "        self.color = c\n",
    "        print(\"Created!\")\n"
   ]
  },
  {
   "cell_type": "code",
   "execution_count": 4,
   "metadata": {},
   "outputs": [
    {
     "name": "stdout",
     "output_type": "stream",
     "text": [
      "Created!\n",
      "10\n",
      "dark orange\n",
      "100\n",
      "light orange\n"
     ]
    }
   ],
   "source": [
    "or1 = Orange(10, \"dark orange\")\n",
    "print(or1.weight)\n",
    "print(or1.color)\n",
    "\n",
    "or1.weight = 100\n",
    "or1.color = \"light orange\"\n",
    "\n",
    "print(or1.weight)\n",
    "print(or1.color)"
   ]
  },
  {
   "cell_type": "code",
   "execution_count": 5,
   "metadata": {},
   "outputs": [
    {
     "name": "stdout",
     "output_type": "stream",
     "text": [
      "Created!\n",
      "0\n",
      "980\n"
     ]
    }
   ],
   "source": [
    "class Orange():\n",
    "    def __init__(self, w, c):\n",
    "        \"\"\"weights are in oz\"\"\"\n",
    "        self.weight = w\n",
    "        self.color = c\n",
    "        self.mold = 0\n",
    "        print(\"Created!\")\n",
    " \n",
    " # Defining a method for rotting inside of the class for orange:\n",
    "    def rot(self, days, temp):\n",
    "        self.mold = days * temp\n",
    " \n",
    "orange = Orange(6, \"orange\")\n",
    "print(orange.mold)\n",
    "orange.rot(10, 98)\n",
    "print(orange.mold)\n",
    "\n"
   ]
  },
  {
   "cell_type": "code",
   "execution_count": 6,
   "metadata": {},
   "outputs": [
    {
     "name": "stdout",
     "output_type": "stream",
     "text": [
      "200\n",
      "800\n"
     ]
    }
   ],
   "source": [
    "class Rectangle():\n",
    "    def __init__(self, w, l):\n",
    "        self.width = w\n",
    "        self.len = l\n",
    " \n",
    "    def area(self):\n",
    "        return self.width * self.len\n",
    " \n",
    "    def change_size(self, w, l):\n",
    "        self.width = w\n",
    "        self.len = l\n",
    " \n",
    "rectangle = Rectangle(10, 20)\n",
    "print(rectangle.area())\n",
    "rectangle.change_size(20, 40)\n",
    "print(rectangle.area())"
   ]
  },
  {
   "cell_type": "code",
   "execution_count": null,
   "metadata": {},
   "outputs": [],
   "source": []
  }
 ],
 "metadata": {
  "kernelspec": {
   "display_name": "Python 3",
   "language": "python",
   "name": "python3"
  },
  "language_info": {
   "codemirror_mode": {
    "name": "ipython",
    "version": 3
   },
   "file_extension": ".py",
   "mimetype": "text/x-python",
   "name": "python",
   "nbconvert_exporter": "python",
   "pygments_lexer": "ipython3",
   "version": "3.11.5"
  },
  "orig_nbformat": 4
 },
 "nbformat": 4,
 "nbformat_minor": 2
}
