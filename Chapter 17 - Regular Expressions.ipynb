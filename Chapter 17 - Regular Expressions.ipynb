{
 "cells": [
  {
   "cell_type": "markdown",
   "metadata": {},
   "source": [
    "python -c \"import this\".  \n",
    "will import the poem \"The Zen of Python\" into the git bash terminal when used.\n",
    "\n"
   ]
  },
  {
   "cell_type": "markdown",
   "metadata": {},
   "source": [
    "The \"-c\" flag tells python that you are going to pass it a string containing python code. Python then executes the code. \n"
   ]
  },
  {
   "cell_type": "markdown",
   "metadata": {},
   "source": [
    "The GREP command accepts two parameters: a regular expression and the filepath to search for the pattern of the regular expression:\n",
    "For an EXACT simple match, enter the following command in the directory where you creted the zen.txt file: \n",
    " \n",
    " grep Beautiful zen.txt\n",
    "  \n",
    " To change the color of the highlighted matched keyword:  \n",
    " export GREP_OPTIONS='--color=always'"
   ]
  },
  {
   "cell_type": "markdown",
   "metadata": {},
   "source": [
    "If you change the regular expression in the previous example from Beautiful to beautiful, grep will not match anything:\n",
    "\n",
    "grep beautiful zen.txt \n",
    "\n",
    "This can be bypassed, and case can be ignored with the flag -i: \n",
    "\n",
    "grep -i beautiful zen.txt \n",
    "\n",
    "Adding the flag  \"-o\" will only print the exact words that match the pattern that was passed in: \n",
    "\n",
    "grep -o beautiful zen.txt "
   ]
  },
  {
   "cell_type": "markdown",
   "metadata": {},
   "source": [
    "You can use regular expressions in Python with its built-in library, re (regular expressions). The re module comes with a method called findall. You pass in a regular expression as a parameter, then a string and it returns a list with all the items in the string that the pattern matches:\n"
   ]
  },
  {
   "cell_type": "code",
   "execution_count": 6,
   "metadata": {},
   "outputs": [
    {
     "name": "stdout",
     "output_type": "stream",
     "text": [
      "['Beautiful']\n",
      "['Beautiful']\n"
     ]
    }
   ],
   "source": [
    "import re\n",
    "\n",
    "l = \"Beautiful is better than ugly.\"\n",
    "\n",
    "matches = re.findall(\"Beautiful\", l)\n",
    "\n",
    "print(matches)\n",
    "\n",
    "# Case can be ignored like so:\n",
    "import re\n",
    " \n",
    "l = \"Beautiful is better than ugly.\"\n",
    " \n",
    "matches = re.findall(\"beautiful\",\n",
    "                     l,\n",
    "                     re.IGNORECASE)\n",
    " \n",
    "print(matches)"
   ]
  },
  {
   "cell_type": "markdown",
   "metadata": {},
   "source": [
    "You can create regular expressions that match complex patterns by adding special characters to them that don't match a character but instead define a rule. For example, you can use the caret character (^) to create a regular expression that only matches a pattern if the pattern occurs at the beginning of a line:"
   ]
  },
  {
   "cell_type": "markdown",
   "metadata": {},
   "source": [
    "grep ^If zen.txt \n",
    "\n",
    "Similarly the dollar sign symbol \"$\" can be used only to match lines that end with a pattern: \n",
    "\n",
    "grep idea.$ zen.txt "
   ]
  },
  {
   "cell_type": "markdown",
   "metadata": {},
   "source": [
    "Here is an example of using the caret symbol (^) in Python (you have to pass in re.MULTILINE as the third parameter to findall to look for matches on all of the lines of a multi-line string):"
   ]
  },
  {
   "cell_type": "code",
   "execution_count": 7,
   "metadata": {},
   "outputs": [
    {
     "name": "stdout",
     "output_type": "stream",
     "text": [
      "['If', 'If']\n"
     ]
    }
   ],
   "source": [
    "import re\n",
    " \n",
    "zen = \"\"\"Although never is\n",
    "often better than\n",
    "*right* now.\n",
    "If the implementation\n",
    "is hard to explain,\n",
    "it's a bad idea.\n",
    "If the implementation\n",
    "is easy to explain,\n",
    "it may be a good\n",
    "idea. Namespaces\n",
    "are one honking\n",
    "great idea -- let's\n",
    "do more of those!\n",
    "\"\"\"\n",
    " \n",
    "m = re.findall(\"^If\",\n",
    "               zen,\n",
    "               re.MULTILINE)\n",
    "print(m)\n"
   ]
  },
  {
   "cell_type": "markdown",
   "metadata": {},
   "source": [
    "You can define a pattern that matches multiple characters by putting them inside of brackets in a regular expression. If you put [abc] in a regular expression, it will match a, b, or c. In the next example, instead of matching text in your zen.txt file, you are going to look for a match in a string by piping it to grep:"
   ]
  },
  {
   "cell_type": "markdown",
   "metadata": {},
   "source": [
    "echo Two too. | grep  -i t[ow]o \n",
    "\n",
    "The output of the command echo is passed to grep as input and, therefore, you don't need to specify the file parameter for grep. The command prints both two and too, because the regular expression matches a t, followed by an o or a w, followed by an o. "
   ]
  },
  {
   "cell_type": "code",
   "execution_count": 8,
   "metadata": {},
   "outputs": [
    {
     "name": "stdout",
     "output_type": "stream",
     "text": [
      "['Two', 'too']\n"
     ]
    }
   ],
   "source": [
    "import re\n",
    " \n",
    "string = \"Two too.\"\n",
    " \n",
    "m = re.findall(\"t[ow]o\",\n",
    "               string,\n",
    "               re.IGNORECASE)\n",
    "print(m)"
   ]
  },
  {
   "cell_type": "markdown",
   "metadata": {},
   "source": [
    "Digits in a string can be matched with [[:digit:]]:"
   ]
  },
  {
   "cell_type": "markdown",
   "metadata": {},
   "source": [
    "echo 123 hi 34 hello. | grep [[:digit:]]\n",
    "\n"
   ]
  },
  {
   "cell_type": "code",
   "execution_count": 9,
   "metadata": {},
   "outputs": [
    {
     "name": "stdout",
     "output_type": "stream",
     "text": [
      "['1', '2', '3', '3', '4']\n"
     ]
    }
   ],
   "source": [
    "import re\n",
    " \n",
    "line = \"123?34 hello?\"\n",
    " \n",
    "m = re.findall(\"\\d\",\n",
    "               line,\n",
    "               re.IGNORECASE)\n",
    " \n",
    "print(m)\n",
    "\n",
    "# This is done with /d in python"
   ]
  },
  {
   "cell_type": "markdown",
   "metadata": {},
   "source": [
    "The asterisk symbol (*) adds repetition to your regular expressions. With an asterisk, \"the preceding item will be matched zero or more times.\"12 For instance, you can use an asterisk to match tw followed by any amount of os:\n"
   ]
  },
  {
   "cell_type": "markdown",
   "metadata": {},
   "source": [
    "echo two twoo not too twoooo. | grep -o two*"
   ]
  },
  {
   "cell_type": "markdown",
   "metadata": {},
   "source": [
    "In a regular expression, a period matches any character. If you follow a period with an asterisk, it instructs the regular expression to match any character zero or more times. You can use a period followed by an asterisk to match everything between two characters: \n",
    "\n",
    "echo __hello__there | grep -o __.*__\n",
    "\n",
    "The asterisk expression is greedy: \n",
    "echo __hi__bye__hi__there | grep -o __.*__\n",
    "\n",
    "You can prevent this by using the question mark with the asterisk to make the regular expression non-greedy, but only in python. Grep does not have a non-greedy matching function: \n",
    "\n"
   ]
  },
  {
   "cell_type": "code",
   "execution_count": 10,
   "metadata": {},
   "outputs": [
    {
     "name": "stdout",
     "output_type": "stream",
     "text": [
      "__one__\n",
      "__two__\n",
      "__three__\n"
     ]
    }
   ],
   "source": [
    "import re\n",
    " \n",
    "t = \"__one__ __two__ __three__\"\n",
    " \n",
    "found = re.findall(\"__.*?__\", t)\n",
    " \n",
    "for match in found:\n",
    "    print(match)"
   ]
  },
  {
   "cell_type": "code",
   "execution_count": 11,
   "metadata": {},
   "outputs": [
    {
     "name": "stdout",
     "output_type": "stream",
     "text": [
      "\n",
      "\n",
      "Giraffes have aroused the curiosity of  since earliest times. The giraffe is the tallest of all living , but scientists are unable to explain how it got its long . The giraffe's tremendous height, which might reach  , comes from it legs and .\n"
     ]
    }
   ],
   "source": [
    "import re\n",
    "\n",
    "text = \"\"\"Giraffes have aroused\n",
    " the curiosity of __PLURAL_NOUN__\n",
    " since earliest times. The\n",
    " giraffe is the tallest of all\n",
    " living __PLURAL_NOUN__, but\n",
    " scientists are unable to\n",
    " explain how it got its long\n",
    " __PART_OF_THE_BODY__. The\n",
    " giraffe's tremendous height,\n",
    " which might reach __NUMBER__\n",
    " __PLURAL_NOUN__, comes from\n",
    " it legs and __BODYPART__.\n",
    "\"\"\"\n",
    "\n",
    "def mad_libs(mls):\n",
    "    \"\"\"\n",
    "    :param mls: String\n",
    "    with parts the user\n",
    "    should fill out surrounded\n",
    "    by double underscores.\n",
    "    Underscores cannot\n",
    "    be inside hint e.g., no\n",
    "    __hint_hint__ only\n",
    "    __hint__.\n",
    "    \"\"\"\n",
    "    hints = re.findall(\"__.*?__\",\n",
    "                      mls)\n",
    "    if hints is not None:\n",
    "        for word in hints:\n",
    "            q = \"Enter a {}\"\\\n",
    "                   .format(word)\n",
    "            new = input(q)\n",
    "            mls = mls.replace(word,\n",
    "                              new,\n",
    "                              1)\n",
    "        print('\\n')\n",
    "        mls = mls.replace(\"\\n\", \"\")\n",
    "        print(mls)\n",
    "    else:\n",
    "        print(\"invalid mls\")\n",
    "\n",
    "mad_libs(text)"
   ]
  },
  {
   "cell_type": "markdown",
   "metadata": {},
   "source": [
    "You can escape characters (ignore a character's meaning and match it instead) in regular expressions like you did earlier with strings in Python, by prefixing a character in a regular expression with a backslash \\: \n",
    "\n",
    "echo I love $ | grep  \\\\$ "
   ]
  },
  {
   "cell_type": "markdown",
   "metadata": {},
   "source": [
    "Regular Expression Tool Getting a regular expression to match a pattern is frustrating. Visit http://www.theselftaughtprogrammer.io/regex for a list of tools to help you create perfect regular expressions.\n",
    "\n"
   ]
  },
  {
   "cell_type": "markdown",
   "metadata": {},
   "source": []
  }
 ],
 "metadata": {
  "kernelspec": {
   "display_name": "Python 3",
   "language": "python",
   "name": "python3"
  },
  "language_info": {
   "codemirror_mode": {
    "name": "ipython",
    "version": 3
   },
   "file_extension": ".py",
   "mimetype": "text/x-python",
   "name": "python",
   "nbconvert_exporter": "python",
   "pygments_lexer": "ipython3",
   "version": "3.11.5"
  },
  "orig_nbformat": 4
 },
 "nbformat": 4,
 "nbformat_minor": 2
}
