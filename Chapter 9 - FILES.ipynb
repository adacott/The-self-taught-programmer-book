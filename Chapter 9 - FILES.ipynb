{
 "cells": [
  {
   "cell_type": "markdown",
   "metadata": {},
   "source": [
    "#### Writing to Files"
   ]
  },
  {
   "cell_type": "code",
   "execution_count": 2,
   "metadata": {},
   "outputs": [
    {
     "data": {
      "text/plain": [
       "'Users\\\\bob\\\\st.txt'"
      ]
     },
     "execution_count": 2,
     "metadata": {},
     "output_type": "execute_result"
    }
   ],
   "source": [
    "# http://tinyurl.com/hkqfkar \n",
    "import os\n",
    "os.path.join(\"Users\",\n",
    "             \"bob\",\n",
    "             \"st.txt\")\n",
    "\n",
    "# Creating file paths with the path function ensures they will work on any operating system. \n",
    "# Working with file paths can still be tricky. The mode you pass to the open function determines the actions you will be able to perform on the file you open. \n",
    "# Here are a few of the modes you can open a file in: \"r\" opens a file for reading only. \"w\" opens a file for writing only. Overwrites the file if the file exists. \n",
    "# If the file does not exist, creates a new file for writing. \"w+\" opens a file for reading and writing. Overwrites the existing file if the file exists. \n",
    "# If the file does not exist, creates a new file for reading and writing.\n",
    "\n",
    "st = open(\"st.txt\", \"w\")\n",
    "st.write(\"Hi from Python!\")\n",
    "st.close()\n"
   ]
  },
  {
   "cell_type": "markdown",
   "metadata": {},
   "source": [
    "#### Automatically Closing files:"
   ]
  },
  {
   "cell_type": "code",
   "execution_count": null,
   "metadata": {},
   "outputs": [],
   "source": [
    "with open(\"st.txt\", \"w\") as f:\n",
    "    f.write(\"Hi from Python!\")\n",
    "\n",
    "# As long as you are still operating within the with statement here, then as soon as python finishes with the code in the statement, python closes the file"
   ]
  },
  {
   "cell_type": "markdown",
   "metadata": {},
   "source": [
    "#### Reading from Files:"
   ]
  },
  {
   "cell_type": "code",
   "execution_count": null,
   "metadata": {},
   "outputs": [],
   "source": [
    "\n",
    "with open(\"st.txt\", \"r\") as f:\n",
    "    print(f.read())\n",
    "\n",
    " "
   ]
  },
  {
   "cell_type": "markdown",
   "metadata": {},
   "source": [
    "#### CSV files:"
   ]
  },
  {
   "cell_type": "code",
   "execution_count": null,
   "metadata": {},
   "outputs": [],
   "source": [
    "import csv\n",
    " \n",
    "with open(\"st.csv\", \"w\", newline='') as f:\n",
    "    w = csv.writer(f,\n",
    "                   delimiter=\",\")\n",
    "    w.writerow([\"one\",\n",
    "                \"two\",\n",
    "                \"three\"])\n",
    "    w.writerow([\"four\",\n",
    "                \"five\",\n",
    "                \"six\"])\n",
    "\n",
    "import csv\n",
    " \n",
    "with open(\"st.csv\", \"r\") as f:\n",
    "    r = csv.reader(f, delimiter=\",\")\n",
    "    for row in r:\n",
    "          print(\",\".join(row))\n"
   ]
  }
 ],
 "metadata": {
  "kernelspec": {
   "display_name": "Python 3",
   "language": "python",
   "name": "python3"
  },
  "language_info": {
   "codemirror_mode": {
    "name": "ipython",
    "version": 3
   },
   "file_extension": ".py",
   "mimetype": "text/x-python",
   "name": "python",
   "nbconvert_exporter": "python",
   "pygments_lexer": "ipython3",
   "version": "3.11.5"
  },
  "orig_nbformat": 4
 },
 "nbformat": 4,
 "nbformat_minor": 2
}
