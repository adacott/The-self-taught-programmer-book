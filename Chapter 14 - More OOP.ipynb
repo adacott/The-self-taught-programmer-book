{
 "cells": [
  {
   "cell_type": "markdown",
   "metadata": {},
   "source": [
    "#### Class Variables vs. Instance variables"
   ]
  },
  {
   "cell_type": "markdown",
   "metadata": {},
   "source": [
    "Classes have two types of variables: class variables and instance variables.  \n",
    "The variables you've seen so far have been instance variables, defined with the syntax self.[variable_name] = [variable_value]. Instance variables belong to objects:\n",
    "\n"
   ]
  },
  {
   "cell_type": "code",
   "execution_count": 1,
   "metadata": {},
   "outputs": [
    {
     "name": "stdout",
     "output_type": "stream",
     "text": [
      "10 by 24\n",
      "              \n"
     ]
    }
   ],
   "source": [
    "class Rectangle():\n",
    "    def __init__(self, w, l):\n",
    "        self.width = w\n",
    "        self.len = l\n",
    " \n",
    "    def print_size(self):\n",
    "        print(\"\"\"{} by {}\n",
    "              \"\"\".format(self.width,\n",
    "                         self.len))\n",
    " \n",
    "my_rectangle = Rectangle(10, 24)\n",
    "my_rectangle.print_size()\n",
    "\n",
    "# Here, width and length are instance variables, while class rectangle is an object"
   ]
  },
  {
   "cell_type": "markdown",
   "metadata": {},
   "source": [
    "Class variables belong to the object Python creates for each class definition and the objects they create. You define class variables like regular variables (but you must define them inside of a class). You can access them with class objects, and with an object created with a class object. You access them the same way you access instance variables (preceding the variable name with self.). Class variables are useful; they allow you to share data between all of the instances of a class without relying on global variables:\n",
    "\n"
   ]
  },
  {
   "cell_type": "code",
   "execution_count": 2,
   "metadata": {},
   "outputs": [
    {
     "name": "stdout",
     "output_type": "stream",
     "text": [
      "[(10, 24), (20, 40), (100, 200)]\n"
     ]
    }
   ],
   "source": [
    "class Rectangle():\n",
    "    recs = []\n",
    " \n",
    "    def __init__(self, w, l):\n",
    "        self.width = w\n",
    "        self.len = l\n",
    "        self.recs.append((self.width,\n",
    "                          self.len))\n",
    " \n",
    "    def print_size(self):\n",
    "        print(\"\"\"{} by {}\n",
    "              \"\"\".format(self.width,\n",
    "                         self.len))\n",
    " \n",
    "r1 = Rectangle(10, 24)\n",
    "r2 = Rectangle(20, 40)\n",
    "r3 = Rectangle(100, 200)\n",
    " \n",
    "print(Rectangle.recs)"
   ]
  },
  {
   "cell_type": "markdown",
   "metadata": {},
   "source": [
    "In this example, you added a class variable called recs to the Rectangle class. You defined it outside of the __init__ method because Python only calls the __init__ method when you create an object, and you want to be able to access the class variable using the class object (which does not call the __init__ method). Next, you created three Rectangle objects. Each time a Rectangle object is created, the code in the __init__ method appends a tuple containing the width and length of the newly created object to the recs list. With this code, whenever you create a new Rectangle object, it is automatically added to the recs list. By using a class variable, you were able to share data between the different objects created by a class, without having to use a global variable.\n"
   ]
  },
  {
   "cell_type": "markdown",
   "metadata": {},
   "source": [
    "#### Magic Methods:"
   ]
  },
  {
   "cell_type": "code",
   "execution_count": 3,
   "metadata": {},
   "outputs": [
    {
     "name": "stdout",
     "output_type": "stream",
     "text": [
      "<__main__.Lion object at 0x0000022F5EC5D610>\n"
     ]
    }
   ],
   "source": [
    "class Lion:\n",
    "   def __init__(self, name):\n",
    "       self.name = name\n",
    " \n",
    "lion = Lion(\"Dilbert\")\n",
    "print(lion)"
   ]
  },
  {
   "cell_type": "markdown",
   "metadata": {},
   "source": [
    "When you print a Lion object, Python calls a magic method called __repr__ it inherited from Object on it, and prints whatever the __repr__ method returns. You can override the inherited __repr__ method to change what prints:\n",
    "\n"
   ]
  },
  {
   "cell_type": "code",
   "execution_count": 4,
   "metadata": {},
   "outputs": [
    {
     "name": "stdout",
     "output_type": "stream",
     "text": [
      "Dilbert\n"
     ]
    }
   ],
   "source": [
    "class Lion:\n",
    "    def __init__(self, name):\n",
    "        self.name = name\n",
    " \n",
    "    def __repr__(self):\n",
    "        return self.name\n",
    " \n",
    "lion = Lion(\"Dilbert\")\n",
    "print(lion)"
   ]
  },
  {
   "cell_type": "markdown",
   "metadata": {},
   "source": [
    "Because you overrode the __repr__ method inherited from Object and changed it to return the Lion object's name, when you print a Lion object, its name— in this case, Dilbert— prints instead of something like <__main__.Lion object at 0x101178828> that the __repr__ method would have returned.\n",
    "\n",
    "\n",
    "Operands in an expression must have a magic method the operator can use to evaluate the expression. For example, in the expression 2 + 2, each integer object has a magic method called __add__ that Python calls when it evaluates the expression. If you define an __add__ method in a class, you can use the objects it creates as operands in an expression with the addition operator:\n",
    "\n"
   ]
  },
  {
   "cell_type": "code",
   "execution_count": 5,
   "metadata": {},
   "outputs": [
    {
     "name": "stdout",
     "output_type": "stream",
     "text": [
      "10\n"
     ]
    }
   ],
   "source": [
    "class AlwaysPositive:\n",
    "    def __init__(self, number):\n",
    "        self.n = number\n",
    " \n",
    "    def __add__(self, other):\n",
    "        return abs(self.n +\n",
    "                   other.n)\n",
    " \n",
    "x = AlwaysPositive(-20)\n",
    "y = AlwaysPositive(10)\n",
    " \n",
    "print(x + y)\n"
   ]
  },
  {
   "cell_type": "markdown",
   "metadata": {},
   "source": [
    "AlwaysPositive objects can be used as operands in an expression with the addition operator because you defined the __add__ method. When Python evaluates an expression with an addition operator, it calls the method __add__ on the first operand object, passes the second operand object into __add__ as a parameter, and returns the result. In this case, __add__ uses the built-in function abs to return the absolute value of two numbers added together in an expression. Because you defined __add__ this way, two AlwaysPositive objects evaluated in an expression with the addition operator will always return the absolute value of the sum of the two objects; thus, the result of the expression is always positive."
   ]
  },
  {
   "cell_type": "markdown",
   "metadata": {},
   "source": [
    "#### The keyword \"is\""
   ]
  },
  {
   "cell_type": "code",
   "execution_count": 9,
   "metadata": {},
   "outputs": [
    {
     "name": "stdout",
     "output_type": "stream",
     "text": [
      "True\n",
      "False\n"
     ]
    }
   ],
   "source": [
    "# the keyword \"is\" returns True if two objects are the same object, and false if not:\n",
    "class Person:\n",
    "    def __init__(self):\n",
    "        self.name = 'Bob'\n",
    " \n",
    "bob = Person()\n",
    "same_bob = bob\n",
    "print(bob is same_bob)\n",
    " \n",
    "another_bob = Person()\n",
    "print(bob is another_bob)\n",
    "\n",
    "# When you use the keyword is in an expression with the objects bob and same_bob as operators, the expression evaluates to \n",
    "# True because both variables point to the same Person object. When you create a new Person object and compare it to the original bob, \n",
    "# the expression evaluates to False because the variables point to different Person objects."
   ]
  },
  {
   "cell_type": "code",
   "execution_count": 10,
   "metadata": {},
   "outputs": [
    {
     "name": "stdout",
     "output_type": "stream",
     "text": [
      "x is not None\n",
      "x is None :( \n"
     ]
    }
   ],
   "source": [
    "# This can also be used to evalute if a variable is \"None\"\n",
    "x = 10\n",
    "if x is None:\n",
    "    print(\"x is None :( \")\n",
    "else:\n",
    "    print(\"x is not None\")\n",
    " \n",
    "x = None\n",
    "if x is None:\n",
    "    print(\"x is None :( \")\n",
    "else:\n",
    "    print(\"x is not None\")\n"
   ]
  },
  {
   "cell_type": "markdown",
   "metadata": {},
   "source": [
    "#### Challenges:"
   ]
  },
  {
   "cell_type": "markdown",
   "metadata": {},
   "source": [
    "Challenges  \n",
    "1. Add a square_list class variable to a class called Square so that every time you create a new Square object, the new object gets added to the list. \n",
    "2. Change the Square class so that when you print a Square object, a message prints telling you the len of each of the four sides of the shape. For example, if you create a square with Square(29) and print it, Python should print 29 by 29 by 29 by 29. \n",
    "3. Write a function that takes two objects as parameters and returns True if they are the same object, and False if not.\n"
   ]
  },
  {
   "cell_type": "code",
   "execution_count": null,
   "metadata": {},
   "outputs": [],
   "source": []
  }
 ],
 "metadata": {
  "kernelspec": {
   "display_name": "Python 3",
   "language": "python",
   "name": "python3"
  },
  "language_info": {
   "codemirror_mode": {
    "name": "ipython",
    "version": 3
   },
   "file_extension": ".py",
   "mimetype": "text/x-python",
   "name": "python",
   "nbconvert_exporter": "python",
   "pygments_lexer": "ipython3",
   "version": "3.11.5"
  },
  "orig_nbformat": 4
 },
 "nbformat": 4,
 "nbformat_minor": 2
}
